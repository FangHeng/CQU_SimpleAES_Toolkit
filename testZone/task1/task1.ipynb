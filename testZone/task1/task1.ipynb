{
 "cells": [
  {
   "cell_type": "markdown",
   "metadata": {
    "collapsed": false
   },
   "source": [
    "# 编程和测试要求\n",
    "## 1. 基本测试\n",
    "\n",
    "> 根据S-AES算法编写和调试程序，提供GUI解密支持用户交互。输入可以是16bit的数据和16bit的密钥，输出是16bit的密文。\n",
    "\n",
    "我们在GUI界面中勾选Bit,并给出三组满足要求的输入进行测试:"
   ]
  },
  {
   "cell_type": "code",
   "execution_count": 1,
   "metadata": {
    "collapsed": false,
    "ExecuteTime": {
     "end_time": "2023-10-20T06:32:08.777850Z",
     "start_time": "2023-10-20T06:32:08.774297Z"
    }
   },
   "outputs": [
    {
     "name": "stdout",
     "output_type": "stream",
     "text": [
      "使用S-AES加密算法进行加密/解密处理...\n"
     ]
    }
   ],
   "source": [
    "# 加载实现的加密算法类\n",
    "from SAES.SAES import SAES"
   ]
  },
  {
   "cell_type": "code",
   "execution_count": 2,
   "metadata": {
    "collapsed": false,
    "ExecuteTime": {
     "end_time": "2023-10-20T06:34:08.619196Z",
     "start_time": "2023-10-20T06:34:08.613828Z"
    }
   },
   "outputs": [
    {
     "name": "stdout",
     "output_type": "stream",
     "text": [
      "明文1: 0110101110100011\n",
      "明文1: 1101110111010000\n",
      "明文1: 1111111111111111\n",
      "\n",
      "明文1加密后的密文为：0011110000111011\n",
      "明文2加密后的密文为：1100000001000000\n",
      "明文3加密后的密文为：1011100011011110\n",
      "\n",
      "密文1解密后的明文为：0110101110100011\n",
      "密文2解密后的明文为：1101110111010000\n",
      "密文3解密后的明文为：1111111111111111\n"
     ]
    }
   ],
   "source": [
    "# 1. 初始化SDES类\n",
    "Validation1 = SAES(key='0010110101010101')\n",
    "\n",
    "# 2. 加密\n",
    "ciphertext1 = Validation1.encrypt(plaintext='0110101110100011')\n",
    "ciphertext2 = Validation1.encrypt(plaintext='1101110111010000')\n",
    "ciphertext3 = Validation1.encrypt(plaintext='1111111111111111')\n",
    "\n",
    "print(\"明文1:\",'0110101110100011')\n",
    "print(\"明文1:\",'1101110111010000')\n",
    "print(\"明文1:\",'1111111111111111')\n",
    "print('')\n",
    "\n",
    "print(\"明文1加密后的密文为：{}\".format(ciphertext1))\n",
    "print(\"明文2加密后的密文为：{}\".format(ciphertext2))\n",
    "print(\"明文3加密后的密文为：{}\".format(ciphertext3))\n",
    "# 3. 解密\n",
    "plaintext1 = Validation1.decrypt(ciphertext=ciphertext1)\n",
    "plaintext2 = Validation1.decrypt(ciphertext=ciphertext2)\n",
    "plaintext3 = Validation1.decrypt(ciphertext=ciphertext3)\n",
    "\n",
    "print('')\n",
    "print(\"密文1解密后的明文为：{}\".format(plaintext1))\n",
    "print(\"密文2解密后的明文为：{}\".format(plaintext2))\n",
    "print(\"密文3解密后的明文为：{}\".format(plaintext3))"
   ]
  },
  {
   "cell_type": "markdown",
   "metadata": {
    "collapsed": false
   },
   "source": [
    "可以看到三个明文加密解密后得到本身，证明我们的程序能够正确地处理bit输入"
   ]
  }
 ],
 "metadata": {
  "kernelspec": {
   "display_name": "Python 3",
   "language": "python",
   "name": "python3"
  },
  "language_info": {
   "codemirror_mode": {
    "name": "ipython",
    "version": 2
   },
   "file_extension": ".py",
   "mimetype": "text/x-python",
   "name": "python",
   "nbconvert_exporter": "python",
   "pygments_lexer": "ipython2",
   "version": "2.7.6"
  }
 },
 "nbformat": 4,
 "nbformat_minor": 0
}
