{
 "cells": [
  {
   "cell_type": "markdown",
   "source": [
    "# 编程和测试要求\n",
    "## 4. 多重加密"
   ],
   "metadata": {
    "collapsed": false
   }
  },
  {
   "cell_type": "markdown",
   "source": [
    "其实在建立加密类SAES的过程中我们已经实现了多重加密的功能，定义在类方法中"
   ],
   "metadata": {
    "collapsed": false
   }
  },
  {
   "cell_type": "code",
   "execution_count": 1,
   "outputs": [],
   "source": [
    "def _single_encrypt(self, plaintext):\n",
    "    \"\"\"单轮加密函数，输入明文，输出密文。加密key为16位\"\"\"\n",
    "\n",
    "    # 密钥扩展\n",
    "    keys = self.key_expansion()\n",
    "\n",
    "    # 初始轮密钥加密\n",
    "    initial_text = self.round_key_addition(plaintext, keys[0])\n",
    "\n",
    "    # 第一轮操作\n",
    "    after_sub_byte1 = self.sub_byte(initial_text)\n",
    "    after_row_shift1 = self.row_shift(after_sub_byte1)\n",
    "    after_mix_columns1 = self.mix_columns(after_row_shift1, self.MixMatrix)\n",
    "    after_key_addition1 = self.round_key_addition(after_mix_columns1, keys[1])\n",
    "\n",
    "    # 第二轮操作\n",
    "    after_sub_byte2 = self.sub_byte(after_key_addition1)\n",
    "    after_row_shift2 = self.row_shift(after_sub_byte2)\n",
    "    ciphertext = self.round_key_addition(after_row_shift2, keys[2])\n",
    "\n",
    "    return ciphertext\n",
    "\n",
    "def _single_decrypt(self, ciphertext):\n",
    "    \"\"\"单轮解密函数，输入密文，输出明文。加密key为16位\"\"\"\n",
    "\n",
    "    # 密钥扩展\n",
    "    keys = self.key_expansion()\n",
    "\n",
    "    # 初始轮密钥加密\n",
    "    initial_text = self.round_key_addition(ciphertext, keys[2])\n",
    "\n",
    "    # 第一轮逆操作\n",
    "    after_inv_row_shift1 = self.row_shift(initial_text)\n",
    "    after_inv_sub_byte1 = self.sub_byte(after_inv_row_shift1, use_inverse=True)\n",
    "    after_key_addition1 = self.round_key_addition(after_inv_sub_byte1, keys[1])\n",
    "\n",
    "    # 第二轮逆操作\n",
    "    after_inv_mix_columns = self.mix_columns(after_key_addition1, [[9, 2], [2, 9]])\n",
    "    after_inv_row_shift2 = self.row_shift(after_inv_mix_columns)\n",
    "    after_inv_sub_byte2 = self.sub_byte(after_inv_row_shift2, use_inverse=True)\n",
    "    plaintext = self.round_key_addition(after_inv_sub_byte2, keys[0])\n",
    "\n",
    "    return plaintext\n",
    "\n",
    "def encrypt(self, plaintext):\n",
    "    \"\"\"多轮加密函数，输入明文，输出密文。key为16的倍数\"\"\"\n",
    "    ciphertext = plaintext\n",
    "    # 对每一个密钥进行加密操作\n",
    "    for key in self.keys_list:\n",
    "        self.key = key\n",
    "        ciphertext = self._single_encrypt(ciphertext)\n",
    "    return ciphertext\n",
    "\n",
    "def decrypt(self, ciphertext):\n",
    "    \"\"\"多轮解密函数，输入密文，输出明文。key为16的倍数\"\"\"\n",
    "    plaintext = ciphertext\n",
    "    # 对每一个密钥进行解密操作（注意逆序操作）\n",
    "    for key in reversed(self.keys_list):\n",
    "        self.key = key\n",
    "        plaintext = self._single_decrypt(plaintext)\n",
    "    return plaintext"
   ],
   "metadata": {
    "collapsed": false,
    "ExecuteTime": {
     "end_time": "2023-10-20T11:51:09.317815Z",
     "start_time": "2023-10-20T11:51:09.315287Z"
    }
   }
  },
  {
   "cell_type": "markdown",
   "source": [
    "上述的四个函数分别为单轮的加密/解密，以及多轮的加密/解密。其中多轮加密/解密的过程就是将多个密钥进行加密/解密的过程。\n",
    "\n",
    "我在初始化SAES类的时候，会将输入的密钥进行分割，然后存储在keys_list中，这样就可以在多轮加密/解密的过程中使用了。\n",
    "```python\n",
    "    def __init__(self, key,\n",
    "                 S_BOX=None,\n",
    "                 S_BOX_INV=None,\n",
    "                 RCON=None,\n",
    "                 MixMatrix=None,\n",
    "                 MixMatrix_INV=None\n",
    "                 ):\n",
    "        \"\"\" 初始化加密类以及对应的密钥和各种转换盒 \"\"\"\n",
    "\n",
    "        ......\n",
    "\n",
    "        # 检查key的长度是否为16的倍数\n",
    "        if len(key) % 16 != 0:\n",
    "            raise ValueError(\"Key length must be a multiple of 16!\")\n",
    "\n",
    "        # 将key分割为16位长的元素\n",
    "        self.keys_list = [key[i:i + 16] for i in range(0, len(key), 16)]\n",
    "```\n",
    "\n",
    "然后在每一轮中进行for循环加密，对每一个进行加密/解密的密钥进行操作。\n",
    "```python\n",
    "    def encrypt(self, plaintext):\n",
    "        \"\"\"多轮加密函数，输入明文，输出密文。key为16的倍数\"\"\"\n",
    "        ciphertext = plaintext\n",
    "        # 对每一个密钥进行加密操作\n",
    "        for key in self.keys_list:\n",
    "            self.key = key\n",
    "            ciphertext = self._single_encrypt(ciphertext)\n",
    "        return ciphertext\n",
    "\n",
    "    def decrypt(self, ciphertext):\n",
    "        \"\"\"多轮解密函数，输入密文，输出明文。key为16的倍数\"\"\"\n",
    "        plaintext = ciphertext\n",
    "        # 对每一个密钥进行解密操作（注意逆序操作）\n",
    "        for key in reversed(self.keys_list):\n",
    "            self.key = key\n",
    "            plaintext = self._single_decrypt(plaintext)\n",
    "        return plaintext\n",
    "```\n",
    "\n",
    "下面进行实例化的实现"
   ],
   "metadata": {
    "collapsed": false
   }
  },
  {
   "cell_type": "markdown",
   "source": [
    "4.1 双重加密\n",
    "将S-AES算法通过双重加密进行扩展，分组长度仍然是16 bits，但密钥长度为32 bits。\n",
    "\n",
    "> 这里的输入16 bits明文和32 bits密钥，输出16 bits密文。密钥长度为32 bits，其中前16 bits为K1，后16 bits为K2。加密过程为先使用K1加密，再使用K2加密，解密过程为先使用K2解密，再使用K1解密。"
   ],
   "metadata": {
    "collapsed": false
   }
  },
  {
   "cell_type": "code",
   "execution_count": 2,
   "outputs": [
    {
     "name": "stdout",
     "output_type": "stream",
     "text": [
      "使用S-AES加密算法进行加密/解密处理...\n"
     ]
    }
   ],
   "source": [
    "# 加载实现的加密算法类\n",
    "from SAES.SAES import SAES"
   ],
   "metadata": {
    "collapsed": false,
    "ExecuteTime": {
     "end_time": "2023-10-20T11:51:09.321291Z",
     "start_time": "2023-10-20T11:51:09.318555Z"
    }
   }
  },
  {
   "cell_type": "code",
   "execution_count": 3,
   "outputs": [
    {
     "name": "stdout",
     "output_type": "stream",
     "text": [
      "本次SAES加密明文为：1101011100101100\n",
      "通过SAES加密后的密文为：0110110100111010\n",
      "通过SAES解密后的明文为：1101011100101100\n"
     ]
    }
   ],
   "source": [
    "double_key = '10110011100110101101111011001101'\n",
    "double_saes = SAES(key=double_key)\n",
    "double_plaintext = '1101011100101100'\n",
    "print(f'本次SAES加密明文为：{double_plaintext}')\n",
    "double_encrypted_ciphertext = double_saes.encrypt(double_plaintext)\n",
    "print(f'通过SAES加密后的密文为：{double_encrypted_ciphertext}')\n",
    "double_decrypted_plaintext = double_saes.decrypt(double_encrypted_ciphertext)\n",
    "print(f'通过SAES解密后的明文为：{double_decrypted_plaintext}')"
   ],
   "metadata": {
    "collapsed": false,
    "ExecuteTime": {
     "end_time": "2023-10-20T11:51:09.333624Z",
     "start_time": "2023-10-20T11:51:09.322862Z"
    }
   }
  },
  {
   "cell_type": "markdown",
   "source": [
    "### 4.2 中间相遇攻击\n",
    "> 假设你找到了使用相同密钥的明、密文对(一个或多个)，请尝试使用中间相遇攻击的方法找到正确的密钥Key(K1+K2)。\n",
    "\n",
    "为了进行暴力破解，我们需要遍历所有可能的密钥，然后用每一个可能的密钥进行解密操作，检查解密后的结果是否是预期的明文。"
   ],
   "metadata": {
    "collapsed": false
   }
  },
  {
   "cell_type": "markdown",
   "source": [
    "中间相遇攻击适用于块加密算法，其目标是降低暴力破解的复杂性。对于一个双轮SAES，中间相遇攻击的基本思路如下：\n",
    "\n",
    "- 从明文出发，使用所有可能的第一轮密钥K1进行加密，直到中间状态，并将每一个结果及其对应的K1存储在一个字典中。\n",
    "- 从密文出发，使用所有可能的第二轮密钥K2进行解密，直到中间状态，并检查每个结果是否在步骤1中创建的字典中。\n",
    "- 一旦找到匹配项，就可以断定找到了正确的K1和K2。"
   ],
   "metadata": {
    "collapsed": false
   }
  },
  {
   "cell_type": "code",
   "execution_count": 4,
   "outputs": [],
   "source": [
    "def meet_in_the_middle_attack(pairs):\n",
    "    \"\"\"\n",
    "    使用中间相遇攻击找到可能的key1和key2对。\n",
    "    输入：pairs - 明密文对的列表，如[(plaintext1, ciphertext1), (plaintext2, ciphertext2), ...]\n",
    "    输出：所有可能的(key1, key2)对的列表\n",
    "    \"\"\"\n",
    "    SAES_instance = SAES(\"0\" * 16)  # 创建一个默认密钥的SAES实例\n",
    "    possible_keys_set = None  # 存储所有明密文对的交集\n",
    "\n",
    "    for plaintext, ciphertext in pairs:\n",
    "        encrypt_dict = {}\n",
    "        current_possible_keys = set()\n",
    "\n",
    "        # Step 1: 从明文开始加密，直到中间值\n",
    "        for key1 in range(2**16):  # 遍历所有可能的16位key1\n",
    "            SAES_instance.key = format(key1, '016b')\n",
    "            intermediate_ciphertext = SAES_instance._single_encrypt(plaintext)\n",
    "            encrypt_dict[intermediate_ciphertext] = SAES_instance.key\n",
    "\n",
    "        # Step 2: 从密文开始解密，直到中间值\n",
    "        for key2 in range(2**16):  # 遍历所有可能的16位key2\n",
    "            SAES_instance.key = format(key2, '016b')\n",
    "            intermediate_plaintext = SAES_instance._single_decrypt(ciphertext)\n",
    "            if intermediate_plaintext in encrypt_dict:  # 查找是否有匹配的中间值\n",
    "                current_possible_keys.add((encrypt_dict[intermediate_plaintext], SAES_instance.key))\n",
    "\n",
    "        if possible_keys_set is None:\n",
    "            possible_keys_set = current_possible_keys\n",
    "        else:\n",
    "            possible_keys_set &= current_possible_keys\n",
    "\n",
    "    return list(possible_keys_set)"
   ],
   "metadata": {
    "collapsed": false,
    "ExecuteTime": {
     "end_time": "2023-10-20T11:51:09.333997Z",
     "start_time": "2023-10-20T11:51:09.326953Z"
    }
   }
  },
  {
   "cell_type": "code",
   "execution_count": 5,
   "outputs": [
    {
     "name": "stdout",
     "output_type": "stream",
     "text": [
      "1. 只使用一对明密文对\n",
      "Number of potential key pairs: 41562\n"
     ]
    }
   ],
   "source": [
    "# 1. 只使用一对明密文对\n",
    "print(\"1. 只使用一对明密文对\")\n",
    "pairs1 = [(\"1101011100101100\", \"0110110100111010\")]\n",
    "potential_keys = meet_in_the_middle_attack(pairs1)\n",
    "\n",
    "print(f\"Number of potential key pairs: {len(potential_keys)}\")"
   ],
   "metadata": {
    "collapsed": false,
    "ExecuteTime": {
     "end_time": "2023-10-20T11:51:12.572501Z",
     "start_time": "2023-10-20T11:51:09.396078Z"
    }
   }
  },
  {
   "cell_type": "markdown",
   "source": [
    "可以看到这里的使用单个明密文对，可能的结果会有41562个key对，这个数量是非常大的，所以我们需要更多的明密文对来进行暴力破解。"
   ],
   "metadata": {
    "collapsed": false
   }
  },
  {
   "cell_type": "code",
   "execution_count": 6,
   "outputs": [
    {
     "name": "stdout",
     "output_type": "stream",
     "text": [
      "2. 使用两对明密文对\n",
      "Number of potential key pairs: 1\n",
      "Potential key pairs: [('1011001110011010', '1101111011001101')]\n"
     ]
    }
   ],
   "source": [
    "# 2. 使用两对明密文对\n",
    "print(\"2. 使用两对明密文对\")\n",
    "pairs2 = [\n",
    "    (\"1101011100101100\", \"0110110100111010\"),\n",
    "    (\"1111111100000000\", \"0111011011110111\")\n",
    "]\n",
    "potential_keys = meet_in_the_middle_attack(pairs2)\n",
    "print(f\"Number of potential key pairs: {len(potential_keys)}\")\n",
    "print(f\"Potential key pairs: {potential_keys}\")"
   ],
   "metadata": {
    "collapsed": false,
    "ExecuteTime": {
     "end_time": "2023-10-20T11:51:19.065721Z",
     "start_time": "2023-10-20T11:51:12.622872Z"
    }
   }
  },
  {
   "cell_type": "markdown",
   "source": [
    "可以看当我输入两对明密文对时，可能的结果就只有一个了，这个结果就是正确的密钥。"
   ],
   "metadata": {
    "collapsed": false
   }
  },
  {
   "cell_type": "markdown",
   "source": [
    "### 4.3 三重加密\n",
    "将S-AES算法通过三重加密进行扩展，下面两种模式选择一种完成：\n",
    "(1)按照32 bits密钥Key(K1+K2)的模式进行三重加密解密，\n",
    "(2)使用48bits(K1+K2+K3)的模式进行三重加解密。"
   ],
   "metadata": {
    "collapsed": false
   }
  },
  {
   "cell_type": "markdown",
   "source": [
    "因为考虑到我们在设计加密类时就已经考虑到了多重加密的情况，所以这里的实现就非常简单了，只需要将密钥长度改为48 bits即可。\n",
    "也可以参考方案1使用两个key进行加密，但是为了我们代码的连贯性，这里我还是使用了方案2。"
   ],
   "metadata": {
    "collapsed": false
   }
  },
  {
   "cell_type": "code",
   "execution_count": 7,
   "outputs": [
    {
     "name": "stdout",
     "output_type": "stream",
     "text": [
      "本次SAES加密密钥长度为：48\n",
      "本次SAES加密明文为：1101011100101100\n",
      "通过SAES加密后的密文为：0001100100010001\n",
      "通过SAES解密后的明文为：1101011100101100\n"
     ]
    }
   ],
   "source": [
    "triple_key= '101100111001101011011110110011011011101000100111'\n",
    "print(f'本次SAES加密密钥长度为：{len(triple_key)}')\n",
    "triple_saes = SAES(key=triple_key)\n",
    "triple_plaintext = '1101011100101100'\n",
    "print(f'本次SAES加密明文为：{triple_plaintext}')\n",
    "triple_encrypted_ciphertext = triple_saes.encrypt(triple_plaintext)\n",
    "print(f'通过SAES加密后的密文为：{triple_encrypted_ciphertext}')\n",
    "triple_decrypted_plaintext = triple_saes.decrypt(triple_encrypted_ciphertext)\n",
    "print(f'通过SAES解密后的明文为：{triple_decrypted_plaintext}')"
   ],
   "metadata": {
    "collapsed": false,
    "ExecuteTime": {
     "end_time": "2023-10-20T11:51:19.070324Z",
     "start_time": "2023-10-20T11:51:19.068208Z"
    }
   }
  },
  {
   "cell_type": "markdown",
   "source": [
    "我们这里对加密破解的测试考虑可以验证我们写的加密算法的安全性，同时也完成了双重加密、中间相遇攻击、三重加密的实现。\n",
    "也可以看到SAES即使使用了双重加密，在有多个明密文对的情况下依然可以在秒级水平被破译。\n",
    "对加密算法有了更深的理解。"
   ],
   "metadata": {
    "collapsed": false
   }
  }
 ],
 "metadata": {
  "kernelspec": {
   "display_name": "Python 3",
   "language": "python",
   "name": "python3"
  },
  "language_info": {
   "codemirror_mode": {
    "name": "ipython",
    "version": 2
   },
   "file_extension": ".py",
   "mimetype": "text/x-python",
   "name": "python",
   "nbconvert_exporter": "python",
   "pygments_lexer": "ipython2",
   "version": "2.7.6"
  }
 },
 "nbformat": 4,
 "nbformat_minor": 0
}
