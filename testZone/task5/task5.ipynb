{
 "cells": [
  {
   "cell_type": "markdown",
   "source": [
    "# 编程和测试要求\n",
    "## 5. 工作模式\n",
    "\n",
    "> 基于S-AES算法，使用密码分组链(CBC)模式对较长的明文消息进行加密。注意初始向量(16 bits) 的生成，并需要加解密双方共享。\n",
    "> \n",
    "> 在CBC模式下进行加密，并尝试对密文分组进行替换或修改，然后进行解密，请对比篡改密文前后的解密结果。"
   ],
   "metadata": {
    "collapsed": false
   }
  },
  {
   "cell_type": "code",
   "execution_count": 136,
   "outputs": [],
   "source": [
    "# 加载实现的加密算法类\n",
    "from SAES.SAES import SAES"
   ],
   "metadata": {
    "collapsed": false,
    "ExecuteTime": {
     "end_time": "2023-10-20T15:52:33.733431900Z",
     "start_time": "2023-10-20T15:52:33.663745200Z"
    }
   }
  },
  {
   "cell_type": "markdown",
   "source": [
    "### 5.1 CBC工作模式的实现\n",
    "\n",
    "在本小节中，将选取测试用例为:"
   ],
   "metadata": {
    "collapsed": false
   }
  },
  {
   "cell_type": "code",
   "execution_count": 137,
   "outputs": [],
   "source": [
    "# CBC工作模式的测试用例\n",
    "plaintext = \"Hello S-AES and CBC!\"\n",
    "key = \"1101001110100101\"\n",
    "iv = \"0101101000001111\""
   ],
   "metadata": {
    "collapsed": false,
    "ExecuteTime": {
     "end_time": "2023-10-20T15:52:33.734432Z",
     "start_time": "2023-10-20T15:52:33.666939Z"
    }
   }
  },
  {
   "cell_type": "markdown",
   "source": [
    "#### 5.1.1 采用CBC模式的加密过程"
   ],
   "metadata": {
    "collapsed": false
   }
  },
  {
   "cell_type": "code",
   "execution_count": 138,
   "outputs": [],
   "source": [
    "def cbc_encrypt(plaintext, key, iv):\n",
    "    saes = SAES(key=key)\n",
    "    previous_cipherblock = iv\n",
    "    ciphertext = \"\"\n",
    "\n",
    "    # 转换输入为二进制\n",
    "    binary_input = ''.join([bin(ord(char)).replace(\"0b\", \"\").zfill(8) for char in plaintext])\n",
    "\n",
    "    # 检查字符数并进行填充\n",
    "    if len(plaintext) % 2 == 1:  # 奇数字符，添加00000001\n",
    "        binary_input += '00000001'\n",
    "    else:  # 偶数字符，添加00000010 00000010\n",
    "        binary_input += '00000010' + '00000010'\n",
    "\n",
    "    # 使用CBC模式进行加密\n",
    "    for i in range(0, len(binary_input), 16):\n",
    "        block = binary_input[i:i + 16]\n",
    "\n",
    "        # 明文块与前一个密文块异或\n",
    "        xor_block = ''.join([str(int(a) ^ int(b)) for a, b in zip(block, previous_cipherblock)])\n",
    "\n",
    "        cipherblock = saes.encrypt(xor_block)\n",
    "        ciphertext += cipherblock\n",
    "\n",
    "        previous_cipherblock = cipherblock\n",
    "\n",
    "    # 将结果转换为十六进制字符串\n",
    "    hex_ciphertext = hex(int(ciphertext, 2))[2:].zfill(len(ciphertext) // 4)\n",
    "\n",
    "    return hex_ciphertext\n"
   ],
   "metadata": {
    "collapsed": false,
    "ExecuteTime": {
     "end_time": "2023-10-20T15:52:33.735431800Z",
     "start_time": "2023-10-20T15:52:33.670047700Z"
    }
   }
  },
  {
   "cell_type": "markdown",
   "source": [
    "cbc_encrypt函数接收用户字符输入plaintext,约定的key以及iv初始向量。"
   ],
   "metadata": {
    "collapsed": false
   }
  },
  {
   "cell_type": "code",
   "execution_count": 139,
   "outputs": [
    {
     "name": "stdout",
     "output_type": "stream",
     "text": [
      "密文是:a95ea41bda4db7b2672fc73a5af31b90e6444fc43b63\n"
     ]
    }
   ],
   "source": [
    "ciphertext = cbc_encrypt(plaintext, key, iv)\n",
    "print(f'密文是:{ciphertext}')"
   ],
   "metadata": {
    "collapsed": false,
    "ExecuteTime": {
     "end_time": "2023-10-20T15:52:33.736432500Z",
     "start_time": "2023-10-20T15:52:33.674628200Z"
    }
   }
  },
  {
   "cell_type": "markdown",
   "source": [],
   "metadata": {
    "collapsed": false
   }
  },
  {
   "cell_type": "markdown",
   "source": [
    "#### 5.1.2 对CBC模式的解密过程"
   ],
   "metadata": {
    "collapsed": false
   }
  },
  {
   "cell_type": "code",
   "execution_count": 140,
   "outputs": [],
   "source": [
    "def cbc_decrypt(ciphertext, key, iv):\n",
    "    saes = SAES(key=key)\n",
    "    previous_cipherblock = iv\n",
    "    binary_output = \"\"\n",
    "\n",
    "    # 从十六进制字符串转换为二进制\n",
    "    binary_input = bin(int(ciphertext, 16))[2:].zfill(len(ciphertext) * 4)\n",
    "\n",
    "    # 使用CBC模式进行解密\n",
    "    for i in range(0, len(binary_input), 16):\n",
    "        block = binary_input[i:i + 16]\n",
    "\n",
    "        decrypted_block = saes.decrypt(block)\n",
    "\n",
    "        # 解密块与前一个密文块异或\n",
    "        xor_block = ''.join([str(int(a) ^ int(b)) for a, b in zip(decrypted_block, previous_cipherblock)])\n",
    "        binary_output += xor_block\n",
    "\n",
    "        previous_cipherblock = block\n",
    "\n",
    "    # 移除填充\n",
    "    if binary_output[-8:] == '00000001':\n",
    "        binary_output = binary_output[:-8]\n",
    "    elif binary_output[-16:] == '00000010' + '00000010':\n",
    "        binary_output = binary_output[:-16]\n",
    "\n",
    "    # 将二进制转换回ASCII\n",
    "    ascii_output = ''.join([chr(int(binary_output[i:i + 8], 2)) for i in range(0, len(binary_output), 8)])\n",
    "\n",
    "    return ascii_output"
   ],
   "metadata": {
    "collapsed": false,
    "ExecuteTime": {
     "end_time": "2023-10-20T15:52:33.745422800Z",
     "start_time": "2023-10-20T15:52:33.680313300Z"
    }
   }
  },
  {
   "cell_type": "markdown",
   "source": [
    "cbc_decrypt函数接收16进制字符串,约定的key以及iv初始向量。"
   ],
   "metadata": {
    "collapsed": false
   }
  },
  {
   "cell_type": "code",
   "execution_count": 141,
   "outputs": [
    {
     "name": "stdout",
     "output_type": "stream",
     "text": [
      "解密后的明文是:Hello S-AES and CBC!\n"
     ]
    }
   ],
   "source": [
    "decrypted_text = cbc_decrypt(ciphertext, key, iv)\n",
    "print(f'解密后的明文是:{decrypted_text}')"
   ],
   "metadata": {
    "collapsed": false,
    "ExecuteTime": {
     "end_time": "2023-10-20T15:52:33.745422800Z",
     "start_time": "2023-10-20T15:52:33.682821400Z"
    }
   }
  },
  {
   "cell_type": "markdown",
   "source": [
    "测试用例通过,CBC密码分组链实现结束"
   ],
   "metadata": {
    "collapsed": false
   }
  },
  {
   "cell_type": "markdown",
   "source": [
    "#### 5.2 篡改密文组结果分析\n",
    "\n",
    "##### 5.2.1 在加密过程中被篡改:\n",
    "篡改第一个密文组末位,定义函数用以模拟此情况。"
   ],
   "metadata": {
    "collapsed": false
   }
  },
  {
   "cell_type": "code",
   "execution_count": 142,
   "outputs": [],
   "source": [
    "def cbc_encrypt_tamper(plaintext, key, iv, tamper_first_block=False):\n",
    "    saes = SAES(key=key)\n",
    "    previous_cipherblock = iv\n",
    "    ciphertext = \"\"\n",
    "    blocks = []  # 用于存储每个加密块，以便后续输出和比较\n",
    "\n",
    "    # 转换输入为二进制\n",
    "    binary_input = ''.join([bin(ord(char)).replace(\"0b\", \"\").zfill(8) for char in plaintext])\n",
    "\n",
    "    # 检查字符数并进行填充\n",
    "    if len(plaintext) % 2 == 1:  # 奇数字符，添加00000001\n",
    "        binary_input += '00000001'\n",
    "    else:  # 偶数字符，添加00000010 00000010\n",
    "        binary_input += '00000010' + '00000010'\n",
    "\n",
    "    # 使用CBC模式进行加密\n",
    "    for i in range(0, len(binary_input), 16):\n",
    "        block = binary_input[i:i + 16]\n",
    "\n",
    "        # 明文块与前一个密文块异或\n",
    "        xor_block = ''.join([str(int(a) ^ int(b)) for a, b in zip(block, previous_cipherblock)])\n",
    "\n",
    "        cipherblock = saes.encrypt(xor_block)\n",
    "\n",
    "        # 篡改第一个块的最后一个bit\n",
    "        if i == 0 and tamper_first_block:\n",
    "            cipherblock = cipherblock[:15] + ('1' if cipherblock[15] == '0' else '0') + cipherblock[16:]\n",
    "      \n",
    "        ciphertext += cipherblock\n",
    "        blocks.append(cipherblock)\n",
    "        previous_cipherblock = cipherblock\n",
    "    # 将结果转换为十六进制字符串\n",
    "    hex_ciphertext = hex(int(ciphertext, 2))[2:].zfill(len(ciphertext) // 4)\n",
    "\n",
    "    return hex_ciphertext\n"
   ],
   "metadata": {
    "collapsed": false,
    "ExecuteTime": {
     "end_time": "2023-10-20T15:52:33.788433200Z",
     "start_time": "2023-10-20T15:52:33.687046800Z"
    }
   }
  },
  {
   "cell_type": "code",
   "execution_count": 143,
   "outputs": [
    {
     "name": "stdout",
     "output_type": "stream",
     "text": [
      "未被篡改的密文: a95ea41bda4db7b2672fc73a5af31b90e6444fc43b63\n",
      "被篡改后的密文: a95f741c6a4727b47720a7348aff8b98864f3fc11b60\n",
      "未被篡改的解密明文: Hello S-AES and CBC!\n",
      "被篡改后的解密明文: (kllo S-AES and CBC!\n"
     ]
    }
   ],
   "source": [
    "ciphertext1 = cbc_encrypt_tamper(plaintext,key,iv)\n",
    "plaintext1 = cbc_decrypt(ciphertext1,key,iv)\n",
    "\n",
    "ciphertext2 = cbc_encrypt_tamper(plaintext,key,iv,True)\n",
    "plaintext2 = cbc_decrypt(ciphertext2,key,iv)\n",
    "\n",
    "print(\"未被篡改的密文:\",ciphertext1)\n",
    "print(\"被篡改后的密文:\",ciphertext2)\n",
    "# \n",
    "print(\"未被篡改的解密明文:\",plaintext1)\n",
    "print(\"被篡改后的解密明文:\",plaintext2)"
   ],
   "metadata": {
    "collapsed": false,
    "ExecuteTime": {
     "end_time": "2023-10-20T15:52:33.789432200Z",
     "start_time": "2023-10-20T15:52:33.690617800Z"
    }
   }
  },
  {
   "cell_type": "markdown",
   "source": [
    "发现篡改的效果并不明显,只有在更改的block才有影响。\n",
    "\n",
    "所以得出结论：在没有其他安全措施情况下,在加密过程中被篡改是不安全的,加密算法需要保证连续性"
   ],
   "metadata": {
    "collapsed": false
   }
  },
  {
   "cell_type": "markdown",
   "source": [
    "#### 5.2.2 加密完成后密文分组被篡改:\n",
    "\n",
    "依然是篡改密文分组block1的末位"
   ],
   "metadata": {
    "collapsed": false
   }
  },
  {
   "cell_type": "code",
   "execution_count": 144,
   "outputs": [],
   "source": [
    "def cbc_encrypt_tamper(plaintext, key, iv, tamper_first_block=False):\n",
    "    saes = SAES(key=key)\n",
    "    previous_cipherblock = iv\n",
    "    ciphertext = \"\"\n",
    "    blocks = []  # 用于存储每个加密块，以便后续输出和比较\n",
    "\n",
    "    # 转换输入为二进制\n",
    "    binary_input = ''.join([bin(ord(char)).replace(\"0b\", \"\").zfill(8) for char in plaintext])\n",
    "\n",
    "    # 检查字符数并进行填充\n",
    "    if len(plaintext) % 2 == 1:  # 奇数字符，添加00000001\n",
    "        binary_input += '00000001'\n",
    "    else:  # 偶数字符，添加00000010 00000010\n",
    "        binary_input += '00000010' + '00000010'\n",
    "\n",
    "    # 使用CBC模式进行加密\n",
    "    for i in range(0, len(binary_input), 16):\n",
    "        block = binary_input[i:i + 16]\n",
    "\n",
    "        # 明文块与前一个密文块异或\n",
    "        xor_block = ''.join([str(int(a) ^ int(b)) for a, b in zip(block, previous_cipherblock)])\n",
    "\n",
    "        cipherblock = saes.encrypt(xor_block)\n",
    "\n",
    "\n",
    "      \n",
    "        ciphertext += cipherblock\n",
    "        blocks.append(cipherblock)\n",
    "        previous_cipherblock = cipherblock\n",
    "    if tamper_first_block:\n",
    "        first_block = blocks[0]\n",
    "        tampered_block = first_block[:15] + ('1' if first_block[15] == '0' else '0')\n",
    "        ciphertext = ciphertext.replace(first_block, tampered_block, 1)\n",
    "    # 将结果转换为十六进制字符串\n",
    "    hex_ciphertext = hex(int(ciphertext, 2))[2:].zfill(len(ciphertext) // 4)\n",
    "\n",
    "    return hex_ciphertext\n"
   ],
   "metadata": {
    "collapsed": false,
    "ExecuteTime": {
     "end_time": "2023-10-20T15:52:33.790422700Z",
     "start_time": "2023-10-20T15:52:33.696612300Z"
    }
   }
  },
  {
   "cell_type": "code",
   "execution_count": 145,
   "outputs": [
    {
     "name": "stdout",
     "output_type": "stream",
     "text": [
      "未被篡改的密文: a95ea41bda4db7b2672fc73a5af31b90e6444fc43b63\n",
      "被篡改后的密文: a95fa41bda4db7b2672fc73a5af31b90e6444fc43b63\n",
      "未被篡改的解密明文: Hello S-AES and CBC!\n",
      "被篡改后的解密明文: (klmo S-AES and CBC!\n"
     ]
    }
   ],
   "source": [
    "ciphertext1 = cbc_encrypt_tamper(plaintext,key,iv)\n",
    "plaintext1 = cbc_decrypt(ciphertext1,key,iv)\n",
    "\n",
    "ciphertext2 = cbc_encrypt_tamper(plaintext,key,iv,True)\n",
    "plaintext2 = cbc_decrypt(ciphertext2,key,iv)\n",
    "\n",
    "print(\"未被篡改的密文:\",ciphertext1)\n",
    "print(\"被篡改后的密文:\",ciphertext2)\n",
    "# \n",
    "print(\"未被篡改的解密明文:\",plaintext1)\n",
    "print(\"被篡改后的解密明文:\",plaintext2)"
   ],
   "metadata": {
    "collapsed": false,
    "ExecuteTime": {
     "end_time": "2023-10-20T15:52:33.791422800Z",
     "start_time": "2023-10-20T15:52:33.700311900Z"
    }
   }
  },
  {
   "cell_type": "markdown",
   "source": [
    "可以看到，密文在已经形成之后被篡改会再带来后一个block的更改，其余不变。\n",
    "\n",
    "这种篡改在没有其余安全措施的情况下依然不安全，篡改攻击精度高。"
   ],
   "metadata": {
    "collapsed": false
   }
  },
  {
   "cell_type": "markdown",
   "source": [
    "### 5.3 针对CBC的攻击\n",
    "#### **1. 字节反转攻击:**\n",
    "如果我们改变Ciphertext-N-1中的一个字节，然后和下一块解密后的密文xor，就可以得到一个不同的明文，而这个明文是我们可以控制的。\n",
    "\n",
    "**举个例子**\n",
    "> 我们想要更改某密文块C1，其对应明文Hello,更改为Jello\n",
    "\n",
    "**第一步：计算差异**\n",
    "    Hello XOR Jello = Δ\n",
    "\n",
    "**第二步：将差异应用于C1**\n",
    "    C1' = C1 XOR Δ\n",
    "    \n",
    "**能修改成功的原因是：**\n",
    "    D(C1') XOR IV = D(C1 XOR Δ) XOR IV = (D(C1) XOR IV) XOR Δ = Hello XOR Δ = Jello\n",
    "    C1‘会被先解密，于是经过逆运算得到我们想要篡改的'Jello'\n",
    "\n",
    "并且，由于CBC解密过程中单个密文块只有本身和之后一个block，使得篡改变得容易。"
   ],
   "metadata": {
    "collapsed": false
   }
  },
  {
   "cell_type": "markdown",
   "source": [
    "### 5.4 结果分析\n",
    "\n",
    "经过**5.2**的实例和**5.3**的分析,我们得到结论：\n",
    "\n",
    "没有其他安全措施的CBC工作模式容易受到篡改攻击和字节替换攻击。"
   ],
   "metadata": {
    "collapsed": false
   }
  },
  {
   "cell_type": "markdown",
   "source": [],
   "metadata": {
    "collapsed": false
   }
  },
  {
   "cell_type": "markdown",
   "source": [],
   "metadata": {
    "collapsed": false
   }
  }
 ],
 "metadata": {
  "kernelspec": {
   "display_name": "Python 3",
   "language": "python",
   "name": "python3"
  },
  "language_info": {
   "codemirror_mode": {
    "name": "ipython",
    "version": 2
   },
   "file_extension": ".py",
   "mimetype": "text/x-python",
   "name": "python",
   "nbconvert_exporter": "python",
   "pygments_lexer": "ipython2",
   "version": "2.7.6"
  }
 },
 "nbformat": 4,
 "nbformat_minor": 0
}
