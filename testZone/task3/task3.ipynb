{
 "cells": [
  {
   "cell_type": "markdown",
   "metadata": {
    "collapsed": false
   },
   "source": [
    "# 编程和测试要求\n",
    "## 3. 拓展功能\n",
    "\n",
    "> 考虑到向实用性扩展，加密算法的数据输入可以是ASII编码字符串(分组为2 Byte)，对应地输出也可以是ACII字符串(很可能是乱码)。\n",
    "\n",
    "我们这里选择对加密结果按照16进制的格式输出，避免输出乱码或者无法显示的系统控制符："
   ]
  },
  {
   "cell_type": "code",
   "execution_count": 14,
   "metadata": {
    "collapsed": false,
    "ExecuteTime": {
     "end_time": "2023-10-20T12:54:07.304888300Z",
     "start_time": "2023-10-20T12:54:07.274598700Z"
    }
   },
   "outputs": [],
   "source": [
    "# 加载实现的加密算法类以及测试用类\n",
    "from SAES.SAES import SAES\n",
    "from unittest.mock import Mock"
   ]
  },
  {
   "cell_type": "markdown",
   "metadata": {
    "collapsed": false
   },
   "source": [
    "### 3.1 ASCII码的处理\n",
    "\n",
    "在后端的视图函数中根据用户的选择处理不同格式的输入："
   ]
  },
  {
   "cell_type": "code",
   "execution_count": 15,
   "metadata": {
    "collapsed": false,
    "ExecuteTime": {
     "end_time": "2023-10-20T12:54:07.305901200Z",
     "start_time": "2023-10-20T12:54:07.283748700Z"
    }
   },
   "outputs": [],
   "source": [
    "# 用户明文处理函数\n",
    "def plaintext_sent(request):\n",
    "    if request.method == 'POST':\n",
    "        key_input = request.POST['key']\n",
    "        plaintext_input = request.POST['plaintext']\n",
    "        type = request.POST['type']\n",
    "        if type == \"ASCII\":\n",
    "            saes = SAES(key=key_input)\n",
    "            out = \"\"\n",
    "\n",
    "            # 转换输入为二进制\n",
    "            binary_input = ''.join([bin(ord(char)).replace(\"0b\", \"\").zfill(8) for char in plaintext_input])\n",
    "\n",
    "            # 检查字符数并进行填充\n",
    "            if len(plaintext_input) % 2 == 1:  # 奇数字符，添加00000001\n",
    "                binary_input += '00000001'\n",
    "            else:  # 偶数字符，添加00000010 00000010\n",
    "                binary_input += '00000010' + '00000010'\n",
    "\n",
    "            for i in range(0, len(binary_input), 16):\n",
    "                bin_block = binary_input[i:i + 16]\n",
    "                out_hex = hex(int(saes.encrypt(bin_block), 2))[2:].zfill(4)  # 加密并转换为16进制\n",
    "                out += out_hex\n",
    "\n",
    "            data = {\n",
    "                \"ciphertext\": out\n",
    "            }\n",
    "            return data\n",
    "\n",
    "        elif type == \"Bit\":\n",
    "            saes = SAES(key=key_input)\n",
    "            out_bin = saes.encrypt(plaintext_input)\n",
    "            out_hex = hex(int(out_bin, 2))[2:].zfill(4)\n",
    "            data = {\n",
    "                \"ciphertext\": out_bin\n",
    "            }\n",
    "            return data\n"
   ]
  },
  {
   "cell_type": "markdown",
   "source": [
    "考虑到用户的输入分组并非是2bytes,处理并填充ASCII字符是至关重要的。这里我们采用PKCS#7标准来进行填充：\n",
    "\n",
    "为奇数长度的输入加上00000001，为偶数长度的输入加上00000010 00000010。\n",
    "这意味着解密结果都将是偶数位，并且后8bit只有两种可能。再分别进行删除，这就避免了二义性，不会有两个不同的输入在加密后产生相同输出。"
   ],
   "metadata": {
    "collapsed": false
   }
  },
  {
   "cell_type": "markdown",
   "metadata": {
    "collapsed": false
   },
   "source": [
    "我们将模拟一个用户在前端生成的HttpRequest请求来测试:"
   ]
  },
  {
   "cell_type": "markdown",
   "metadata": {
    "collapsed": false
   },
   "source": []
  },
  {
   "cell_type": "code",
   "execution_count": 16,
   "metadata": {
    "collapsed": false,
    "ExecuteTime": {
     "end_time": "2023-10-20T12:54:07.320377Z",
     "start_time": "2023-10-20T12:54:07.294256300Z"
    }
   },
   "outputs": [
    {
     "name": "stdout",
     "output_type": "stream",
     "text": [
      "'code'加密后的密文是:c4cc5136319a\n"
     ]
    }
   ],
   "source": [
    "# 创建一个模拟的 HttpRequest 对象\n",
    "request_plain = Mock()\n",
    "\n",
    "# 设置模拟对象的属性\n",
    "request_plain.method = 'POST'\n",
    "request_plain.POST = {\n",
    "    'key': '1100010111011101',\n",
    "    'plaintext': 'code',\n",
    "    'type': 'ASCII',\n",
    "}\n",
    "# 测试\n",
    "response = plaintext_sent(request_plain)\n",
    "print(\"'code'加密后的密文是:\"+response['ciphertext'])"
   ]
  },
  {
   "cell_type": "markdown",
   "metadata": {
    "collapsed": false
   },
   "source": [
    "### 3.2 对密文的处理\n",
    "\n",
    "在后端的视图函数中根据用户的选择处理不同格式的输入："
   ]
  },
  {
   "cell_type": "code",
   "execution_count": 17,
   "metadata": {
    "collapsed": false,
    "ExecuteTime": {
     "end_time": "2023-10-20T12:54:07.321377500Z",
     "start_time": "2023-10-20T12:54:07.302546700Z"
    }
   },
   "outputs": [],
   "source": [
    "# 用户输入待转换的密文\n",
    "def ciphertext_sent(request):\n",
    "    #\n",
    "    # 用户输入的文本就记作：plaintext\n",
    "    if request.method == 'POST':\n",
    "        key_input = request.POST['key']\n",
    "        ciphertext_input = request.POST['plaintext']\n",
    "        type = request.POST['type']\n",
    "\n",
    "        # 实例化SAES对象\n",
    "        saes = SAES(key=key_input)\n",
    "\n",
    "        if type == \"ASCII\":\n",
    "            out = \"\"\n",
    "\n",
    "            # 每4个字符（16位）解密一次\n",
    "            for i in range(0, len(ciphertext_input), 4):\n",
    "                hex_block = ciphertext_input[i:i + 4]\n",
    "                bin_block = bin(int(hex_block, 16)).replace(\"0b\", \"\").zfill(16)\n",
    "                out_bin = saes.decrypt(bin_block)\n",
    "\n",
    "                # 从二进制块中检索原始字符\n",
    "                out_chr1 = chr(int(out_bin[:8], 2))\n",
    "                out_chr2 = chr(int(out_bin[8:], 2))\n",
    "\n",
    "                # 检查填充字符并按需要删除它们\n",
    "                if out_bin[8:] == '00000001':\n",
    "                    out += out_chr1\n",
    "                elif out_bin[:8] == '00000010' and out_bin[8:] == '00000010':\n",
    "                    continue\n",
    "                else:\n",
    "                    out += out_chr1 + out_chr2\n",
    "\n",
    "            data = {\n",
    "                \"ciphertext\": out\n",
    "            }\n",
    "            return data\n",
    "\n",
    "        elif type == \"Bit\":\n",
    "            bin_input = bin(int(ciphertext_input,2)).replace(\"0b\", \"\").zfill(16)\n",
    "            out_bin = saes.decrypt(bin_input)\n",
    "            data = {\n",
    "                \"ciphertext\": out_bin\n",
    "            }\n",
    "            return data"
   ]
  },
  {
   "cell_type": "code",
   "execution_count": 18,
   "metadata": {
    "collapsed": false,
    "ExecuteTime": {
     "end_time": "2023-10-20T12:54:07.322386700Z",
     "start_time": "2023-10-20T12:54:07.304888300Z"
    }
   },
   "outputs": [
    {
     "name": "stdout",
     "output_type": "stream",
     "text": [
      "解密后的明文为:code\n"
     ]
    }
   ],
   "source": [
    "# 创建一个模拟的 HttpRequest 对象并输入\n",
    "request_cipher = Mock()\n",
    "\n",
    "# 设置模拟对象的属性\n",
    "request_cipher.method = 'POST'\n",
    "request_cipher.POST = {\n",
    "    'key': '1100010111011101',\n",
    "    'plaintext': 'c4cc5136319a',\n",
    "    'type': 'ASCII',\n",
    "}\n",
    "\n",
    "#函数测试\n",
    "response = ciphertext_sent(request_cipher)\n",
    "print(\"解密后的明文为:\"+response[\"ciphertext\"])"
   ]
  },
  {
   "cell_type": "markdown",
   "metadata": {
    "collapsed": false
   },
   "source": [
    "经过一次模拟的用户请求测试，可以看出我们对ASCII码的处理无误。"
   ]
  }
 ],
 "metadata": {
  "kernelspec": {
   "display_name": "Python 3",
   "language": "python",
   "name": "python3"
  },
  "language_info": {
   "codemirror_mode": {
    "name": "ipython",
    "version": 2
   },
   "file_extension": ".py",
   "mimetype": "text/x-python",
   "name": "python",
   "nbconvert_exporter": "python",
   "pygments_lexer": "ipython2",
   "version": "2.7.6"
  }
 },
 "nbformat": 4,
 "nbformat_minor": 0
}
