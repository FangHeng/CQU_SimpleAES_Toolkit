{
 "cells": [
  {
   "cell_type": "markdown",
   "source": [
    "# 编程和测试要求\n",
    "## 2. 交叉测试\n",
    "\n",
    "> 考虑到是**算法标准**，所有人在编写程序的时候需要使用相同算法流程和转换单元(P-Box、S-Box等)，以保证算法和程序在异构的系统或平台上都可以正常运行。设有A和B两组位同学(选择相同的密钥K)；则A、B组同学编写的程序对明文P进行加密得到相同的密文C；或者B组同学接收到A组程序加密的密文C，使用B组程序进行解密可得到与A相同的P。\n",
    "\n",
    "所以这里我们小组与另外两个小组进行了交叉测试，测试结果如下："
   ],
   "metadata": {
    "collapsed": false
   }
  },
  {
   "cell_type": "code",
   "execution_count": 1,
   "outputs": [
    {
     "name": "stdout",
     "output_type": "stream",
     "text": [
      "使用S-AES加密算法进行加密/解密处理...\n"
     ]
    }
   ],
   "source": [
    "# 加载实现的加密算法类\n",
    "from SAES.SAES import SAES"
   ],
   "metadata": {
    "collapsed": false,
    "ExecuteTime": {
     "end_time": "2023-10-20T11:15:37.562825Z",
     "start_time": "2023-10-20T11:15:37.558884Z"
    }
   }
  },
  {
   "cell_type": "markdown",
   "source": [
    "### 2.1 与小组1的交叉测试（Java实现）\n",
    "\n",
    "```java\n",
    "    String initialKey = \"0000\";  // 初始16位密钥\n",
    "    String plaintext = \"0000000000000000\";\n",
    "    // 加密结果如下：0000011100011110\n",
    "```\n",
    "```java\n",
    "    String initialKey = \"2D55\";  // 初始16位密钥\n",
    "    String plaintext = \"0000000000000000\";\n",
    "    // 加密结果如下：1011100011100001\n",
    "```"
   ],
   "metadata": {
    "collapsed": false
   }
  },
  {
   "cell_type": "code",
   "execution_count": 2,
   "outputs": [
    {
     "name": "stdout",
     "output_type": "stream",
     "text": [
      "加密后的密文为：0000011100011110\n",
      "解密后的明文为：0000000000000000\n"
     ]
    }
   ],
   "source": [
    "# 1. 初始化SDES类\n",
    "key1 = bin(int(\"0000\", 16))[2:].zfill(16)\n",
    "Validation1 = SAES(key=key1)\n",
    "\n",
    "# 2. 加密\n",
    "ciphertext = Validation1.encrypt(plaintext='0000000000000000')\n",
    "print(\"加密后的密文为：{}\".format(ciphertext))\n",
    "\n",
    "# 3. 解密\n",
    "plaintext = Validation1.decrypt(ciphertext=ciphertext)\n",
    "print(\"解密后的明文为：{}\".format(plaintext))"
   ],
   "metadata": {
    "collapsed": false,
    "ExecuteTime": {
     "end_time": "2023-10-20T11:15:37.568275Z",
     "start_time": "2023-10-20T11:15:37.565987Z"
    }
   }
  },
  {
   "cell_type": "code",
   "execution_count": 3,
   "outputs": [
    {
     "name": "stdout",
     "output_type": "stream",
     "text": [
      "加密后的密文为：1011100011100001\n",
      "解密后的明文为：0000000000000000\n"
     ]
    }
   ],
   "source": [
    "# 1. 初始化SDES类\n",
    "key2 = bin(int(\"2D55\", 16))[2:].zfill(16)\n",
    "Validation2 = SAES(key=key2)\n",
    "\n",
    "# 2. 加密\n",
    "ciphertext = Validation2.encrypt(plaintext='0000000000000000')\n",
    "print(\"加密后的密文为：{}\".format(ciphertext))\n",
    "\n",
    "# 3. 解密\n",
    "plaintext = Validation2.decrypt(ciphertext=ciphertext)\n",
    "print(\"解密后的明文为：{}\".format(plaintext))"
   ],
   "metadata": {
    "collapsed": false,
    "ExecuteTime": {
     "end_time": "2023-10-20T11:15:37.593332Z",
     "start_time": "2023-10-20T11:15:37.569467Z"
    }
   }
  },
  {
   "cell_type": "code",
   "execution_count": 4,
   "outputs": [],
   "source": [
    "# String initialKey = \"0000\";  // 初始16位密钥\n",
    "# String plaintext = \"0000000000000000\";\n",
    "# // 加密结果如下：0000011100011110\n",
    "\n",
    "# String initialKey = \"2D55\";  // 初始16位密钥\n",
    "# String plaintext = \"0000000000000000\";\n",
    "# // 加密结果如下：1011100011100001"
   ],
   "metadata": {
    "collapsed": false,
    "ExecuteTime": {
     "end_time": "2023-10-20T11:15:37.593788Z",
     "start_time": "2023-10-20T11:15:37.572492Z"
    }
   }
  },
  {
   "cell_type": "markdown",
   "source": [
    "可以看出加密与解密过程被正确的执行了"
   ],
   "metadata": {
    "collapsed": false
   }
  },
  {
   "cell_type": "markdown",
   "source": [
    "### 2.2 与小组2的交叉测试（Python实现）\n",
    "\n",
    "```python\n",
    "    key = '1111111100000000'\n",
    "    plaintext = '1010101010101010'\n",
    "    # 加密结果：0100111101010110\n",
    "```"
   ],
   "metadata": {
    "collapsed": false
   }
  },
  {
   "cell_type": "code",
   "execution_count": 5,
   "outputs": [
    {
     "name": "stdout",
     "output_type": "stream",
     "text": [
      "加密后的密文为：0100111101010110\n",
      "解密后的明文为：1010101010101010\n"
     ]
    }
   ],
   "source": [
    "# 1. 初始化SDES类\n",
    "Validation3 = SAES(key='1111111100000000')\n",
    "\n",
    "# 2. 加密\n",
    "ciphertext = Validation1.encrypt(plaintext='1010101010101010')\n",
    "print(\"加密后的密文为：{}\".format(ciphertext))\n",
    "\n",
    "# 3. 解密\n",
    "plaintext = Validation1.decrypt(ciphertext=ciphertext)\n",
    "print(\"解密后的明文为：{}\".format(plaintext))"
   ],
   "metadata": {
    "collapsed": false,
    "ExecuteTime": {
     "end_time": "2023-10-20T11:15:37.593923Z",
     "start_time": "2023-10-20T11:15:37.575398Z"
    }
   }
  },
  {
   "cell_type": "code",
   "execution_count": 6,
   "outputs": [],
   "source": [
    "# key = '1111111100000000'\n",
    "# plaintext = '1010101010101010'\n",
    "# 加密结果：0100111101010110"
   ],
   "metadata": {
    "collapsed": false,
    "ExecuteTime": {
     "end_time": "2023-10-20T11:15:37.594020Z",
     "start_time": "2023-10-20T11:15:37.577073Z"
    }
   }
  },
  {
   "cell_type": "markdown",
   "source": [
    "经过两次的交叉测试，可以看出我们的算法实现是正确的。"
   ],
   "metadata": {
    "collapsed": false
   }
  }
 ],
 "metadata": {
  "kernelspec": {
   "display_name": "Python 3",
   "language": "python",
   "name": "python3"
  },
  "language_info": {
   "codemirror_mode": {
    "name": "ipython",
    "version": 2
   },
   "file_extension": ".py",
   "mimetype": "text/x-python",
   "name": "python",
   "nbconvert_exporter": "python",
   "pygments_lexer": "ipython2",
   "version": "2.7.6"
  }
 },
 "nbformat": 4,
 "nbformat_minor": 0
}
